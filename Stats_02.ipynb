{
 "cells": [
  {
   "cell_type": "markdown",
   "metadata": {},
   "source": [
    "    Q1. What are the three measures of central tendency?\n",
    "\n",
    "Ans:1.Mean,Median,Mode"
   ]
  },
  {
   "cell_type": "markdown",
   "metadata": {},
   "source": [
    "    Q3. Measure the three measures of central tendency for the given height data:\n",
    "[178,177,176,177,178.2,178,175,179,180,175,178.9,176.2,177,172.5,178,176.5]\n",
    "\n",
    "Ans.mean=177.01 , Median=179, mode=178"
   ]
  },
  {
   "cell_type": "markdown",
   "metadata": {},
   "source": [
    "    Q4. Find the standard deviation for the given data:\n",
    "[178,177,176,177,178.2,178,175,179,180,175,178.9,176.2,177,172.5,178,176.5]\n",
    "\n",
    "Ans=2.1835"
   ]
  },
  {
   "cell_type": "markdown",
   "metadata": {},
   "source": [
    "    Q5.\n",
    "\n",
    "\n",
    "Range: Range is the measure of the difference between the largest and smallest value of the data variability. The range is the simplest form of Measures of Dispersion. \n",
    "\n",
    "Example: 1,2,3,4,5,6,7 \n",
    "\n",
    "Range = Highest value – Lowest value \n",
    "\n",
    "  = ( 7 – 1 ) = 6 \n",
    "\n",
    "Varience:Variance (σ2): In simple terms, the variance can be calculated by obtaining the sum of the squared distance of each term in the distribution from the Mean, and then dividing this by the total number of the terms in the distribution.\n",
    "\n",
    " for example, a student’s mark in an exam, is from the Mean of the entire class. \n",
    "\n",
    "(σ2) = ∑ ( X − μ)2 / N\n",
    "\n",
    "Standard deviation: Standard Deviation can be represented as the square root of Variance. To find the standard deviation of any data, you need to find the variance first. Standard Deviation is considered the best measure of dispersion.\n",
    "\n",
    "formula:Standard Deviation = √varience"
   ]
  },
  {
   "cell_type": "markdown",
   "metadata": {},
   "source": [
    "    Q7\n",
    "\n",
    "Ans.A∩B=(2,6)\n",
    "\n",
    "AUB=(0,2,3,4,5,6,7,8,10)"
   ]
  },
  {
   "cell_type": "markdown",
   "metadata": {},
   "source": [
    "    Q8.What do you understand skewness in data?\n",
    "\n",
    "Ans.Skewness is a measurement of the distortion of symmetrical distribution or asymmetry in a data set"
   ]
  },
  {
   "cell_type": "markdown",
   "metadata": {},
   "source": [
    "    Q9.\n",
    "\n"
   ]
  },
  {
   "cell_type": "markdown",
   "metadata": {},
   "source": [
    "    Q10.\n",
    "\n",
    "Both covariance and correlation measure the relationship and the dependency between two variables.\n",
    "\n",
    "And the Covariance indicates the direction of the linear relationship between variables.\n",
    "\n",
    "Correlation measures both the strength and direction of the linear relationship between two variables.\n",
    "\n",
    "Correlation values are standardized but Correlation values are standardized"
   ]
  },
  {
   "cell_type": "markdown",
   "metadata": {},
   "source": [
    "    Q11. What is the formula for calculating the sample mean? Provide an example calculation for a\n",
    "dataset.\n",
    "\n",
    "sample mean formula  x̄ = ( Σ xi ) ÷ n"
   ]
  },
  {
   "cell_type": "code",
   "execution_count": 9,
   "metadata": {},
   "outputs": [
    {
     "data": {
      "text/plain": [
       "19.78594262295082"
      ]
     },
     "execution_count": 9,
     "metadata": {},
     "output_type": "execute_result"
    }
   ],
   "source": [
    "    #example for calculating mean\n",
    "import seaborn as sns\n",
    "import numpy as  np\n",
    "ds=sns.load_dataset('tips')\n",
    "np.mean(ds['total_bill'])"
   ]
  },
  {
   "cell_type": "markdown",
   "metadata": {},
   "source": [
    "    Q12. For a normal distribution data what is the relationship between its measure of central tendency?\n",
    "\n",
    "Ans.Mean=Median=Mode"
   ]
  },
  {
   "cell_type": "markdown",
   "metadata": {},
   "source": [
    "    Q13. How is covariance different from correlation?\n",
    "\n",
    "Covariance indicates the direction of the linear relationship between variables.\n",
    "\n",
    "Correlation measures both the strength and direction of the linear relationship between two variables.\n",
    "\n",
    "Correlation values are standardized but Correlation values are standardized"
   ]
  },
  {
   "cell_type": "markdown",
   "metadata": {},
   "source": [
    "    Q14. How do outliers affect measures of central tendency and dispersion? Provide an example.\n",
    "\n",
    "Outliers are numbers in a data set that are vastly larger or smaller than the other values in the set. Mean, median and mode are measures of central tendency. Mean is the only measure of central tendency that is always affected by an outlier\n",
    "\n",
    "example:x={2,4,6,8,1,2,12,100}\n",
    "\n",
    "where 100 is outlier for set x\n",
    "\n"
   ]
  },
  {
   "cell_type": "markdown",
   "metadata": {},
   "source": []
  }
 ],
 "metadata": {
  "kernelspec": {
   "display_name": "Python 3",
   "language": "python",
   "name": "python3"
  },
  "language_info": {
   "codemirror_mode": {
    "name": "ipython",
    "version": 3
   },
   "file_extension": ".py",
   "mimetype": "text/x-python",
   "name": "python",
   "nbconvert_exporter": "python",
   "pygments_lexer": "ipython3",
   "version": "3.11.4"
  },
  "orig_nbformat": 4
 },
 "nbformat": 4,
 "nbformat_minor": 2
}
